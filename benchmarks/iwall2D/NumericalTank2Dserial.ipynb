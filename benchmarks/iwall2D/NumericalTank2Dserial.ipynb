{
 "metadata": {
  "name": "",
  "signature": "sha256:44a0a03989108ffc52a13d76ece89f8b36d319d3a926bc44203d3127c2601701"
 },
 "nbformat": 3,
 "nbformat_minor": 0,
 "worksheets": [
  {
   "cells": [
    {
     "cell_type": "markdown",
     "metadata": {
      "slideshow": {
       "slide_type": "slide"
      }
     },
     "source": [
      "Numerical Wave Tank (2D Version)\n",
      "===========================================\n",
      "\n",
      "Show a prototype numerical wave tank. This version solves incompressible air/water flow in 2D (a vertical slice). It's not intendent to be pretty, but rather to show functionality. The graphics and layout are easy, though time consuming, to refine.\n",
      "\n",
      "Notes:\n",
      "\n",
      "- The software can be run locally on mac, windows, and linux if the Proteus stack is installed.\n",
      "- It can also be accessed with a cloud service like Sagemath Cloud, Wakari, or an internal cloud server if we invest in setting one up (you are probably viewing on Sagemath Cloud)\n",
      "- This particular notebook can also be saved as a Python script and run on HPC machines if they have the Proteus software stack installed\n",
      "- This notebook can be reconfigured to use a client/server framework in which pre- and post-processing code runs on the client and the actual numerical solution runs on a parallel resource\n",
      "- Grid generation, specification of input parameters like waves, boundary conditions, and material properties can all be viewed, set from pre-existing definitions, or redefined in this notebook.\n",
      "- The simulation is kicked off in the notebook as a seperate thread and monitored (and that works in parallel too)\n",
      "- The data is archived  in XDMF, which can be opened upon completion of the simulation for post-processing, furthermore additional simulations and multiple scripted runs can be orchestrated by modifying this notebook.\n",
      "\n",
      "\n",
      "the Need to package it so that it is easy to use in the context of a numerical laboratory.  How does the user  produce a grid, locally refine the grid, view the grid, different types of grids, generate monochromatic waves, solitary waves, wave spectra or currents, specify different types of sensors, wave absorbing boundary conditions, flow sinks, wave generation boundary conditions, etc?  How does the user analyze and view the input and output?  For a wave flume with a wall at one end, how does one get bulk wave spectra parameter output (Hm0, Tp) at specific locations in the flume?  That is fairly complicated because at any location, there will be incident and reflected waves.  For 2D you need a line of sensors and for 3D it is more complicated requiring a 2D array of sensors.  The gage spacing is critical.  Were you planning on leaving that to the user?  SMS has a some data analysis capability but really isn\u2019t close to including everything that is needed.  We are going to need a detailed system design soon.\n",
      "\n",
      "TODO\n",
      "----\n",
      "\n",
      "- draft UI software development plan\n",
      "- draft feature list\n",
      "- draft project management plan\n"
     ]
    },
    {
     "cell_type": "markdown",
     "metadata": {
      "slideshow": {
       "slide_type": "slide"
      }
     },
     "source": [
      "Parallelism (Turned off for now)\n",
      "--------------------------------\n",
      "Check to make sure the cluster for this notebook is not already running, and then start it"
     ]
    },
    {
     "cell_type": "code",
     "collapsed": false,
     "input": [
      "%matplotlib  inline\n",
      "import matplotlib.pyplot as plt\n",
      "import matplotlib.pylab as pylab\n",
      "import numpy as np\n",
      "#!export PATH=${HOME}/proteus/linux/bin:${PATH}; ipcluster stop --profile=mpiWavetank\n",
      "#!export PATH=${HOME}/proteus/linux/bin:${PATH}; ipcluster start --profile=mpiWavetank --engines=MPI --n=4"
     ],
     "language": "python",
     "metadata": {
      "slideshow": {
       "slide_type": "skip"
      }
     },
     "outputs": []
    },
    {
     "cell_type": "markdown",
     "metadata": {
      "slideshow": {
       "slide_type": "skip"
      }
     },
     "source": [
      "Attach to the cluster"
     ]
    },
    {
     "cell_type": "code",
     "collapsed": false,
     "input": [
      "#from IPython.parallel import Client, error\n",
      "#cluster = Client(profile='mpiWavetank')\n",
      "#view = cluster[:]\n",
      "#view.block = True\n",
      "#%load_ext parallelmagic\n",
      "#view.activate()"
     ],
     "language": "python",
     "metadata": {
      "slideshow": {
       "slide_type": "skip"
      }
     },
     "outputs": []
    },
    {
     "cell_type": "markdown",
     "metadata": {},
     "source": [
      "Verify that the MPI environment on the cluster is ready"
     ]
    },
    {
     "cell_type": "code",
     "collapsed": false,
     "input": [
      "#%px\n",
      "#from mpi4py import MPI\n",
      "#mpi = MPI.COMM_WORLD\n",
      "#bcast = mpi.bcast\n",
      "#barrier = mpi.barrier\n",
      "#rank = mpi.rank\n",
      "#print \"MPI rank: %i/%i\" % (mpi.rank,mpi.size)"
     ],
     "language": "python",
     "metadata": {},
     "outputs": []
    },
    {
     "cell_type": "markdown",
     "metadata": {},
     "source": [
      "Load Proteus\n",
      "------------\n",
      "\n",
      "Proteus is a Python package consiting of multiple modules. We are going to define a problem and run a simulation interactively so we pull in the iproteus (interactive proteus) module and some default numerics and simulation modules.\n",
      "\n",
      "Notes:\n",
      "- Proteus runs with logging that records verying amounts of information by setting logLevel from 1 to 11\n",
      "- The log is stored  in a .log file, which can be downloaded\n",
      "- If Profiling.verbose is set  to True then logging will show up in certain output cells of the notebook, which is usually not what you want"
     ]
    },
    {
     "cell_type": "code",
     "collapsed": false,
     "input": [
      "import sys\n",
      "# Required imports\n",
      "from proteus.iproteus import * \n",
      "from proteus import default_n, default_s, default_so\n",
      "Profiling.logLevel=1\n",
      "Profiling.verbose=False"
     ],
     "language": "python",
     "metadata": {},
     "outputs": []
    },
    {
     "cell_type": "markdown",
     "metadata": {},
     "source": [
      "Define the tank\n",
      "--------------\n",
      "\n",
      "Importing the tank module reads a text file for the bathymetry transect and generates a polygonal domain. There are several options for how we can modify it:\n",
      "\n",
      "- add a file upload box to just upload a different bottom bathymetry\n",
      "- manipulate an interactive version of the resulting domain (an interactive version of the plot below)\n",
      "- manipulate vertices directly in domain.vertices and domain.segments\n",
      "\n"
     ]
    },
    {
     "cell_type": "code",
     "collapsed": false,
     "input": [
      "import tank,tank_so\n",
      "tank.period=5.0\n",
      "print \"\"\" period = %f \\n wavelength = %f \\n wave height = %f \\n depth = %f\"\"\" % (tank.period, tank.wavelength, tank.waveheight, tank.inflowHeightMean) "
     ],
     "language": "python",
     "metadata": {},
     "outputs": []
    },
    {
     "cell_type": "code",
     "collapsed": false,
     "input": [
      "#%px\n",
      "tank.domain.vertices[10][1] = 0.0\n",
      "#now plot it\n",
      "plt.title('Bathmetry')\n",
      "plt.xlabel(r'z[m]')\n",
      "plt.ylabel(r'x[m]')\n",
      "colors = ['b','g','r','c','m','y','k','w']\n",
      "pylab.xlim(tank.domain.x[0]-0.1*tank.domain.L[0],tank.domain.x[0]+tank.domain.L[0]+0.1*tank.domain.L[0])\n",
      "for si,s in enumerate(tank.segments):\n",
      "    #plot(\n",
      "    plt.plot([tank.domain.vertices[s[0]][0],\n",
      "          tank.domain.vertices[s[1]][0]],\n",
      "         [tank.domain.vertices[s[0]][1],tank.domain.vertices[s[1]][1]],\n",
      "         color=colors[tank.domain.segmentFlags[si]-1],\n",
      "         linewidth=2,\n",
      "         marker='o')\n",
      "tank.domain.polyfile=None\n",
      "tank.domain.writePoly(tank.domain.name)"
     ],
     "language": "python",
     "metadata": {},
     "outputs": []
    },
    {
     "cell_type": "markdown",
     "metadata": {},
     "source": [
      "Define the wave input\n",
      "-------------------\n",
      "\n",
      "Plot same predefined wave functions first"
     ]
    },
    {
     "cell_type": "code",
     "collapsed": false,
     "input": [
      "from math import pi\n",
      "X = np.linspace(0,float(6.0*pi/tank.k),40)\n",
      "Z = np.linspace(float(tank.inflowHeightMean-5*tank.amplitude),float(tank.inflowHeightMean+2.0*tank.amplitude),40)\n",
      "U = np.zeros((40,40),'d')\n",
      "W = np.zeros((40,40),'d')\n",
      "T=0.0\n",
      "for J,xi in enumerate(X):\n",
      "    for I,zi in enumerate(Z):\n",
      "        z_surf = tank.waveHeight([xi,zi],T)\n",
      "        if zi < z_surf:\n",
      "            UIJ = tank.waveVelocity_u([xi,zi],T)#(u.evalf(subs={x:xi,z:zi,t:T})).n()\n",
      "            WIJ = tank.waveVelocity_v([xi,zi],T)#(w.evalf(subs={x:xi,z:zi,t:T})).n()\n",
      "            U[I,J] =  UIJ\n",
      "            W[I,J] = WIJ\n",
      "        else:\n",
      "            U[I,J] = 0.0\n",
      "            W[I,J] = 0.0\n",
      "speed = np.sqrt(U*U + W*W)\n",
      "print X.shape,Z.shape,U.shape,W.shape\n",
      "hl = [tank.waveHeight([xi,zi],T) for xi,zi in zip(X,Z)]\n",
      "plt.axis('equal')\n",
      "plt.plot(X,hl)\n",
      "plt.streamplot(X, Z, U, W,density=(2,2), color=speed,linewidth=2.5*speed/speed.max())"
     ],
     "language": "python",
     "metadata": {},
     "outputs": []
    },
    {
     "cell_type": "code",
     "collapsed": false,
     "input": [
      "T = np.linspace(0,float(6.0*pi/tank.omega),40)\n",
      "Z = np.linspace(float(tank.inflowHeightMean-5*tank.amplitude),float(tank.inflowHeightMean+2.0*tank.amplitude),40)\n",
      "U = np.zeros((40,40),'d')\n",
      "W = np.zeros((40,40),'d')\n",
      "X=0.0\n",
      "for J,ti in enumerate(T):\n",
      "    for I,zi in enumerate(Z):\n",
      "        z_surf = tank.waveHeight([X,zi],ti)\n",
      "        if zi < z_surf:\n",
      "            UIJ = tank.waveVelocity_u([X,zi],ti)#(u.evalf(subs={x:xi,z:zi,t:T})).n()\n",
      "            WIJ = tank.waveVelocity_v([X,zi],ti)#(w.evalf(subs={x:xi,z:zi,t:T})).n()\n",
      "            U[I,J] =  UIJ\n",
      "            W[I,J] = WIJ\n",
      "        else:\n",
      "            U[I,J] = 0.0\n",
      "            W[I,J] = 0.0\n",
      "speed = np.sqrt(U*U + W*W)\n",
      "print T.shape,Z.shape,U.shape,W.shape\n",
      "hl = [tank.waveHeight([X,zi],ti) for ti,zi in zip(T,Z)]\n",
      "plt.axis('equal')\n",
      "plt.plot(T,hl)\n",
      "plt.streamplot(T, Z, U, W,density=(2,2), color=speed,linewidth=2.5*speed/speed.max())\n",
      "plt.xlabel('time[s]')"
     ],
     "language": "python",
     "metadata": {},
     "outputs": []
    },
    {
     "cell_type": "markdown",
     "metadata": {},
     "source": [
      "Define new wave functions\n",
      "----------------------\n",
      "If you want to use something not previously written, you can just redefine them. Note you can also change any of the wave parameters"
     ]
    },
    {
     "cell_type": "code",
     "collapsed": false,
     "input": [
      "from math import tanh,cos\n",
      "def myNewWaveHeight(x,t):\n",
      "    sigma = tanh(tank.k*(tank.inflowHeightMean+tank.amplitude))\n",
      "    return tank.inflowHeightMean + tank.amplitude*(cos(tank.theta(x,t)) + tank.k*tank.amplitude*cos(2.0*tank.theta(x,t))*(3.0-sigma**2)/(4.0*sigma**3))\n",
      "#copy the old one before I overwrite it, because I don't really want to use the new one\n",
      "import copy\n",
      "myOld_k = copy.deepcopy(tank.k)\n",
      "myOldWaveHeight = copy.deepcopy(tank.waveHeight)\n",
      "#\n",
      "tank.k = 0.5*myOld_k\n",
      "tank.waveHeight = myNewWaveHeight\n",
      "X = np.linspace(0,float(6.0*pi/tank.k),80)\n",
      "Z = np.linspace(float(tank.inflowHeightMean-5*tank.amplitude),float(tank.inflowHeightMean+2.0*tank.amplitude),80)\n",
      "U = np.zeros((80,80),'d')\n",
      "W = np.zeros((80,80),'d')\n",
      "T=0.0\n",
      "for J,xi in enumerate(X):\n",
      "    for I,zi in enumerate(Z):\n",
      "        z_surf = tank.waveHeight([xi,zi],T)\n",
      "        if zi < z_surf:\n",
      "            UIJ = tank.waveVelocity_u([xi,zi],T)#(u.evalf(subs={x:xi,z:zi,t:T})).n()\n",
      "            WIJ = tank.waveVelocity_v([xi,zi],T)#(w.evalf(subs={x:xi,z:zi,t:T})).n()\n",
      "            U[I,J] =  UIJ\n",
      "            W[I,J] = WIJ\n",
      "        else:\n",
      "            U[I,J] = 0.0\n",
      "            W[I,J] = 0.0\n",
      "speed = np.sqrt(U*U + W*W)\n",
      "hl = [tank.waveHeight([xi,zi],T) for xi,zi in zip(X,Z)]\n",
      "tank.k = myOld_k\n",
      "tank.waveHeight = myOldWaveHeight\n",
      "hl_old = [myOldWaveHeight([xi,zi],T) for xi,zi in zip(X,Z)]\n",
      "#pyplot.axis('equal')\n",
      "plt.plot(X,hl,X,hl_old)\n",
      "#pyplot.plot(X,hl_old)\n",
      "plt.streamplot(X, Z, U, W,density=(2,2), color=speed)"
     ],
     "language": "python",
     "metadata": {},
     "outputs": []
    },
    {
     "cell_type": "markdown",
     "metadata": {},
     "source": [
      "Time Stepping\n",
      "------------"
     ]
    },
    {
     "cell_type": "code",
     "collapsed": false,
     "input": [
      "tank.T=2*tank.period\n",
      "tank.dt_fixed = tank.period/10.0\n",
      "tank.dt_init = min(0.1*tank.dt_fixed,0.001)\n",
      "tank.runCFL=0.33\n",
      "tank.nDTout = int(round(tank.T/tank.dt_fixed))\n",
      "tank_so.tnList = [0.0,tank.dt_init]+[i*tank.dt_fixed for i in range(1,tank.nDTout+1)]\n",
      "print \"data will be saved at these time steps\", tank_so.tnList"
     ],
     "language": "python",
     "metadata": {},
     "outputs": []
    },
    {
     "cell_type": "markdown",
     "metadata": {},
     "source": [
      "Physics and Numerics\n",
      "------------------"
     ]
    },
    {
     "cell_type": "code",
     "collapsed": false,
     "input": [
      "#%px\n",
      "from proteus import mprans\n",
      "from proteus import Comm\n",
      "from petsc4py import PETSc\n",
      "Profiling.logLevel=1\n",
      "Profiling.verbose=False\n",
      "\n",
      "# Simulation parameters\n",
      "#nSteps = 101\n",
      "#sw_2d_n.tnList = [i*sw_2d_p.T/float(nSteps-1) for i in range(nSteps)]\n",
      "#pList = [sw_2d_p]\n",
      "#nList = [sw_2d_n]\n",
      "so = tank_so\n",
      "#so.name = \"iwall2D\"\n",
      "so.tnList = so.tnList\n",
      "pList=[]\n",
      "nList=[]\n",
      "so.sList=[]\n",
      "for (p,n) in so.pnList:\n",
      "    so.sList.append(default_s)\n",
      "    pList.append(__import__(p))\n",
      "    nList.append(__import__(n))\n",
      "    nList[-1].multilevelLinearSolver = default_n.KSP_petsc4py\n",
      "    nList[-1].levelLinearSolver = default_n.KSP_petsc4py\n",
      "    #print pList[-1]\n",
      "    #print pList[-1].name\n",
      "opts.dataDir='.'\n",
      "opts.probDir='.'\n",
      "# PETSc solver configuration\n",
      "#OptDB = PETSc.Options()\n",
      "#OptDB.setValue(\"ksp_type\", \"bcgsl\")\n",
      "#OptDB.setValue(\"pc_type\", \"asm\")\n",
      "#OptDB.setValue(\"pc_asm_type\", \"basic\")\n",
      "#OptDB.setValue(\"sub_pc_type\", \"jacobi\")\n",
      "#OptDB.setValue(\"ksp_rtol\", 0.0)\n",
      "#OptDB.setValue(\"ksp_atol\", 1.0e-8)"
     ],
     "language": "python",
     "metadata": {},
     "outputs": []
    },
    {
     "cell_type": "code",
     "collapsed": false,
     "input": [
      "#%%px\n",
      "# Create simulation object (but don't start the computation yet)\n",
      "ns = NumericalSolution.NS_base(so, pList, nList, so.sList, opts)"
     ],
     "language": "python",
     "metadata": {},
     "outputs": []
    },
    {
     "cell_type": "code",
     "collapsed": false,
     "input": [
      "model = ns.modelList[1].levelModelList[-1]\n",
      "nodes = model.mesh.nodeArray\n",
      "triangles = model.mesh.elementNodesArray\n",
      "x = nodes[:,0]\n",
      "y = nodes[:,1]\n",
      "plt.triplot(x,y,triangles)"
     ],
     "language": "python",
     "metadata": {},
     "outputs": []
    },
    {
     "cell_type": "code",
     "collapsed": false,
     "input": [
      "#%%px --noblock\n",
      "from threading import Thread\n",
      "# Create a thread wrapper for the simulation.  The target must be an argument-less\n",
      "# function so we wrap the call to `calculateSolution` in a simple lambda:\n",
      "simulation_thread = Thread(target = lambda : ns.calculateSolution('run1'))"
     ],
     "language": "python",
     "metadata": {},
     "outputs": []
    },
    {
     "cell_type": "markdown",
     "metadata": {},
     "source": [
      "Define some functions to help monitor the calculation\n",
      "------------------------------------------------"
     ]
    },
    {
     "cell_type": "code",
     "collapsed": false,
     "input": [
      "from IPython.core.display import clear_output,display\n",
      "\n",
      "def plot_current_results(in_place=True):\n",
      "    \"\"\"Makes a blocking call to retrieve remote data and displays the solution mesh\n",
      "    as a contour plot.\n",
      "    \n",
      "    Parameters\n",
      "    ----------\n",
      "    in_place : bool\n",
      "        By default it calls clear_output so that new plots replace old ones.  Set\n",
      "        to False to allow keeping of all previous outputs.\n",
      "    \"\"\"\n",
      "    global nn,x,y,u,triangles\n",
      "    # We make a blocking call to load the remote data from the simulation into simple named \n",
      "    # variables we can read from the engine namespaces\n",
      "    load_simulation_globals()\n",
      "    #view.apply_sync(load_simulation_globals)\n",
      "    # And now we can use the view to read these variables from all the engines.  Then we\n",
      "    # concatenate all of them into single arrays for local plotting\n",
      "    #x = np.concatenate(view['x'])\n",
      "    #y = np.concatenate(view['y'])\n",
      "    #u = np.concatenate(view['u'])\n",
      "    #shifts = numpy.cumsum([0]+view['nn'][:-1]\n",
      "    #flat_triangles = np.concatenate([ tri + shift for tri,shift in zip(view['triangles'], shifts) ])\n",
      "    flat_triangles=triangles\n",
      "    # We can now call the matplotlib plotting function we need\n",
      "    fig, ax = plt.subplots(subplot_kw=dict(aspect='equal'))\n",
      "    ax.tricontourf(x, y, flat_triangles, u)\n",
      "    #from matplotlib import tri\n",
      "    #mesh = tri.Triangulation(x,y,flat_triangles)\n",
      "    #help(mesh)\n",
      "    #ip = tri.LinearTriInterpolator(triangulation, u, trifinder=None)\n",
      "    #X = np.linspace(0,tank.domain.L[0],40)\n",
      "    #Z = np.linspace(0,tank.domain.L[1],40)\n",
      "    #U = np.zeros((40,40),'d')\n",
      "    #W = np.zeros((40,40),'d')\n",
      "    #U = ip(X,Z)\n",
      "    # We clear the notebook output before plotting this if in-place plot updating is requested\n",
      "    if in_place:\n",
      "        clear_output()\n",
      "    display(fig)\n",
      "    return fig"
     ],
     "language": "python",
     "metadata": {},
     "outputs": []
    },
    {
     "cell_type": "code",
     "collapsed": false,
     "input": [
      "def load_simulation_globals():\n",
      "    \"\"\"Put some variables we need in engine namespace.\n",
      "\n",
      "    These can then be retrieved by clients for inspection, visualization, etc.\n",
      "    \"\"\"\n",
      "    global nn, x, y, u, triangles\n",
      "    model = ns.modelList[1].levelModelList[-1]\n",
      "    nodes = model.mesh.nodeArray\n",
      "    triangles = model.mesh.elementNodesArray\n",
      "    x = nodes[:,0]\n",
      "    y = nodes[:,1]\n",
      "    u = model.u[0].dof\n",
      "    nn = len(x)"
     ],
     "language": "python",
     "metadata": {},
     "outputs": []
    },
    {
     "cell_type": "code",
     "collapsed": false,
     "input": [
      "def simulation_alive():\n",
      "    \"\"\"Return True if the simulation thread is still running on any engine.\n",
      "    \"\"\"\n",
      "    return simulation_thread.is_alive()\n",
      "    #return any(view.apply_sync(lambda : simulation_thread.is_alive()))"
     ],
     "language": "python",
     "metadata": {},
     "outputs": []
    },
    {
     "cell_type": "code",
     "collapsed": false,
     "input": [
      "def monitor_simulation(refresh=5.0, plots_in_place=True):\n",
      "    \"\"\"Monitor the simulation progress and call plotting routine.\n",
      "\n",
      "    Supress KeyboardInterrupt exception if interrupted, ensure that the last \n",
      "    figure is always displayed and provide basic timing and simulation status.\n",
      "\n",
      "    Parameters\n",
      "    ----------\n",
      "    refresh : float\n",
      "      Refresh interval between calls to retrieve and plot data.  The default\n",
      "      is 5s, adjust depending on the desired refresh rate, but be aware that \n",
      "      very short intervals will start having a significant impact.\n",
      "\n",
      "    plots_in_place : bool\n",
      "       If true, every new figure replaces the last one, producing a (slow)\n",
      "       animation effect in the notebook.  If false, all frames are plotted\n",
      "       in sequence and appended in the output area.\n",
      "    \"\"\"\n",
      "    import datetime as dt, time\n",
      "    \n",
      "    if not simulation_alive():\n",
      "        plot_current_results(in_place=plots_in_place)\n",
      "        plt.close('all')\n",
      "        print 'Simulation has already finished, no monitoring to do.'\n",
      "        return\n",
      "    \n",
      "    t0 = dt.datetime.now()\n",
      "    fig = None\n",
      "    try:\n",
      "        while simulation_alive():\n",
      "            fig = plot_current_results(in_place=plots_in_place)\n",
      "            plt.close('all') # prevent re-plot of old figures\n",
      "            time.sleep(refresh) # so we don't hammer the server too fast\n",
      "    except (KeyboardInterrupt):#, error.TimeoutError):\n",
      "        msg = 'Monitoring interrupted, simulation is ongoing!'\n",
      "    else:\n",
      "        msg = 'Simulation completed!'\n",
      "    tmon = dt.datetime.now() - t0\n",
      "    if plots_in_place and fig is not None:\n",
      "        clear_output()\n",
      "        display(fig)\n",
      "    print msg\n",
      "    print 'Monitored for: %s.' % tmon"
     ],
     "language": "python",
     "metadata": {},
     "outputs": []
    },
    {
     "cell_type": "code",
     "collapsed": false,
     "input": [
      "simulation_thread.start()"
     ],
     "language": "python",
     "metadata": {},
     "outputs": []
    },
    {
     "cell_type": "code",
     "collapsed": false,
     "input": [
      "monitor_simulation(refresh=60.0)"
     ],
     "language": "python",
     "metadata": {},
     "outputs": []
    },
    {
     "cell_type": "code",
     "collapsed": false,
     "input": [
      "from tables import  openFile\n",
      "archive = openFile('tank_p0.h5','r')"
     ],
     "language": "python",
     "metadata": {},
     "outputs": []
    },
    {
     "cell_type": "code",
     "collapsed": false,
     "input": [
      "nodes = archive.root.nodesSpatial_Domain0[:]\n",
      "elements = archive.root.elementsSpatial_Domain0[:]\n",
      "plt.triplot(nodes[:,0],nodes[:,1],elements)"
     ],
     "language": "python",
     "metadata": {},
     "outputs": []
    },
    {
     "cell_type": "code",
     "collapsed": false,
     "input": [
      "for it,t in enumerate(tank_so.tnList):\n",
      "    phi = archive.getNode(\"/phi\"+`it`)\n",
      "    plt.clf()\n",
      "    plt.xlabel(r'z[m]')\n",
      "    plt.ylabel(r'x[m]')\n",
      "    colors = ['b','g','r','c','m','y','k','w']\n",
      "    pylab.xlim(tank.domain.x[0]-0.1*tank.domain.L[0],tank.domain.x[0]+tank.domain.L[0]+0.1*tank.domain.L[0])    \n",
      "    plt.axis('equal')\n",
      "    for si,s in enumerate(tank.segments):\n",
      "        plt.plot([tank.domain.vertices[s[0]][0],\n",
      "                     tank.domain.vertices[s[1]][0]],\n",
      "                    [tank.domain.vertices[s[0]][1],\n",
      "                     tank.domain.vertices[s[1]][1]],\n",
      "                    color=colors[tank.domain.segmentFlags[si]-1],\n",
      "                    linewidth=2,\n",
      "                    marker='o')\n",
      "    plt.tricontour(nodes[:,0],nodes[:,1],elements,phi,[0])\n",
      "    plt.title('T=%2.2f' % (t,))\n",
      "    #pyplot.streamplot(X, Z, U, W,density=(1,1), color=speed,linewidth=2.5*speed/speed.max())\n",
      "    plt.savefig('phi%4.4d.png' % (it,))"
     ],
     "language": "python",
     "metadata": {},
     "outputs": []
    },
    {
     "cell_type": "code",
     "collapsed": false,
     "input": [
      "#import subprocess\n",
      "#subprocess.call(r\"/mnt/home/BQ7yqT2q/proteus/linux/bin/avconv -y -i phi%4d.png -c h264 -qscale 1 tankPhi.mp4\")\n",
      "!avconv -y -i phi%4d.png -qscale 1 tankPhi.mp4\n",
      "#subprocess.check_output(['/mnt/home/BQ7yqT2q/proteus/linux/bin/avconv','-h'])\n",
      "#subprocess.check_output([r\"/mnt/home/BQ7yqT2q/proteus/linux/bin/avconv\",\"-y\",\"-i\",r\"phi%4d.png\",\"-c\",\"h264\",\"-qscale\",\"1\",\"tankPhi.mp4\"])"
     ],
     "language": "python",
     "metadata": {},
     "outputs": []
    },
    {
     "cell_type": "code",
     "collapsed": false,
     "input": [
      "from IPython.core.display import HTML\n",
      "data_uri_mp4 = open(\"tankPhi.mp4\", \"rb\").read().encode(\"base64\").replace(\"\\n\", \"\")\n",
      "video_tag = \"\"\"<video controls>\n",
      "<source type =\"video/mp4\" src=\"data:video/mp4;base64,{mp4}\"/>\n",
      "Your browser does not support the video tag\n",
      "</video>\"\"\".format(mp4=data_uri_mp4)\n",
      "HTML(data=video_tag)"
     ],
     "language": "python",
     "metadata": {},
     "outputs": []
    },
    {
     "cell_type": "code",
     "collapsed": false,
     "input": [
      "from IPython.display import FileLink,FileLinks\n",
      "FileLink('tankPhi.mp4')"
     ],
     "language": "python",
     "metadata": {},
     "outputs": []
    },
    {
     "cell_type": "code",
     "collapsed": false,
     "input": [
      "FileLinks(path='.',included_suffixes=['.xmf','.h5','.log'])"
     ],
     "language": "python",
     "metadata": {},
     "outputs": []
    },
    {
     "cell_type": "markdown",
     "metadata": {},
     "source": [
      "Post-processing\n",
      "----------------\n",
      "\n",
      "Depending on what needs  to be done you can download the XDMF archive and post-process in paraview or other tools. Paraview can export python scripts that can be run from this notebook, so you can use paraview to decide how you want to post-process something and then past it into the notebook to have it automatically done in the notebook."
     ]
    },
    {
     "cell_type": "code",
     "collapsed": false,
     "input": [],
     "language": "python",
     "metadata": {},
     "outputs": []
    }
   ],
   "metadata": {}
  }
 ]
}